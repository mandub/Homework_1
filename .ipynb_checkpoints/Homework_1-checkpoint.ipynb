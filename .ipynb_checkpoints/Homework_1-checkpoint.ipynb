{
 "cells": [
  {
   "cell_type": "markdown",
   "metadata": {},
   "source": [
    "Machine Learning - Homework 1 (due Sep. 13)"
   ]
  },
  {
   "cell_type": "markdown",
   "metadata": {},
   "source": [
    "Problem 1: Legal reasoning (from Murphy 2.2).\n",
    "\n",
    "Suppose a crime has been committed. Blood is found at the scene for which there is no innocent explanation. It is of a type which is present in 1% of the population.  The defendant is known to have this rare blood type."
   ]
  },
  {
   "cell_type": "markdown",
   "metadata": {},
   "source": [
    "a. The prosecutor claims: “There is a 1% chance that the defendant would have the crime blood type if he\n",
    "were innocent. Thus there is a 99% chance that he guilty”. This is known as the prosecutor’s fallacy.\n",
    "What is wrong with this argument?"
   ]
  },
  {
   "cell_type": "markdown",
   "metadata": {},
   "source": [
    "The prosecutor misunderstanding of conditional probability. The question should be asked is what is P(I =1 | M) probability that he is innocent given that blood type matches not P ( M | I). there for the defendant still has a big chance to be not guilty."
   ]
  },
  {
   "cell_type": "markdown",
   "metadata": {},
   "source": [
    "b. The defender claims: “The crime occurred in a city of 800,000 people. The blood type would be\n",
    "found in approximately 8000 people. The evidence has provided a probability of just 1 in 8000 that\n",
    "the defendant is guilty, and thus has no relevance.” This is known as the defender’s fallacy. What is\n",
    "wrong with this argument (HINT: What happens to the prior in this case if there is *other* evidence presented)?"
   ]
  },
  {
   "cell_type": "markdown",
   "metadata": {},
   "source": [
    "Part of the Defender says is true. however, all the 8000 people have an equal percentage to do the crime. So there is a chance the defendant is guilty."
   ]
  },
  {
   "cell_type": "markdown",
   "metadata": {},
   "source": [
    "c. Suppose that forensic analysis tells us that that the blood test has 98% sensitivity (true positive rate) and a 1% false positive rate.  Given the information presented in the above two questions, determine the posterior probability the the defendent is guilty, given that the defendent's blood type matches that found at the crime scene *and* that the defendent was one of only 5 people with access to the crime scene *and* that there is no other evidence.  "
   ]
  },
  {
   "cell_type": "markdown",
   "metadata": {},
   "source": [
    "See the pdf in the Homework_1 file .."
   ]
  },
  {
   "cell_type": "markdown",
   "metadata": {},
   "source": [
    "Problem 2: Naive Bayes."
   ]
  },
  {
   "cell_type": "markdown",
   "metadata": {},
   "source": [
    "One use of the naive Bayes classifier, which is still in practical use today, is as a spam filter.  Consider the corpus of text messages packaged with this homework, which are each labelled as either 'spam' or 'ham'.  In this case, naive Bayes utilizes a Bernoulli model that quantifies the probability of a given word given that the message is either spam or ham.  For example, investigating the text messages here, we find that the word *draw* shows up in spam 27 times, yet in ham only 5.  Thus, we have that\n",
    "$$ P(X=\\mathrm{draw}|Y=\\mathrm{ham}) = \\frac{5}{5+27}. $$\n",
    "\n",
    "While this is not particularly strong evidence on its own, we can create a powerful classifier by using the naive assumption in conjunction with all the words in a given message:\n",
    "$$ P(Y=\\mathrm{ham}|X=x) \\propto P(Y=\\mathrm{ham}) \\prod_{i=1}^n P(X_i=x_i|Y=\\mathrm{ham}), $$\n",
    "$$ P(Y=\\mathrm{spam}|X=x) \\propto P(Y=\\mathrm{spam}) \\prod_{i=1}^n P(X_i=x_i|Y=\\mathrm{spam}), $$\n",
    "where $x_i$ are the words in a given message. \n",
    "\n",
    "Your task is to write such a classifier.  I have taken the somewhat tedious step of parsing the data for you, yielding the variables *word_dictionary*, which contains the ham and spam counts for each word, as well as *training_labels*, which provides the spam/ham labels for each text message.  I have also parsed a set of test data: *test_messages* is a list, each entry containing another list of the words in the text message, as well as *test_labels* which contains the spam/ham label for each message."
   ]
  },
  {
   "cell_type": "code",
   "execution_count": 26,
   "metadata": {},
   "outputs": [],
   "source": [
    "import numpy as np\n",
    "\n",
    "# Maps from 'ham' or 'spam' strings to zero or one\n",
    "def mapper(s):\n",
    "    if s=='spam':\n",
    "        return 0\n",
    "    else:\n",
    "        return 1\n",
    "\n",
    "# Read in the text file\n",
    "f = open('SMSSpamCollection','r')\n",
    "lines = f.readlines()\n",
    "\n",
    "# Break out the test data\n",
    "test_lines = lines[:len(lines)//5]\n",
    "lines = lines[len(lines)//5:]\n",
    "\n",
    "# Instantiate the frequency dictionary and an array to\n",
    "# record whether the line is ham or spam\n",
    "word_dictionary = {}\n",
    "training_labels = np.zeros(len(lines),dtype=int)\n",
    "\n",
    "# Loop over all the training messages\n",
    "for i,l in enumerate(lines):\n",
    "    # Split into words\n",
    "    l = l.lower().split()\n",
    "    # Record the special first word which always ham or spam\n",
    "    if l[0]=='ham':\n",
    "        training_labels[i] = 1\n",
    "    # For each word in the message, record whether the message was ham or spam\n",
    "    for w in l[1:]:\n",
    "        # If we've never seen the word before, add a new dictionary entry\n",
    "        if w not in word_dictionary:\n",
    "            word_dictionary[w] = [1,1]\n",
    "        word_dictionary[w][mapper(l[0])] += 1 # this will add the word twice for the first time\n",
    "        \n",
    "# Loop over the test messages\n",
    "test_labels = np.zeros(len(test_lines),dtype=int)\n",
    "test_messages = []\n",
    "for i,l in enumerate(test_lines):\n",
    "    l = l.lower().split()\n",
    "    if l[0]=='ham':\n",
    "        test_labels[i] = 1\n",
    "    test_messages.append(l)"
   ]
  },
  {
   "cell_type": "markdown",
   "metadata": {},
   "source": [
    "Below, I have provided code skeletons.  Your job is to make the code skeletons into an operational naive Bayes spam detector.  (you may discard these skeletons if you would prefer to code this from scratch).  Note that lines where you will need to change the code are marked with a '#!'.\n",
    "\n",
    "Your first task is train the model:  "
   ]
  },
  {
   "cell_type": "code",
   "execution_count": 27,
   "metadata": {},
   "outputs": [
    {
     "name": "stdout",
     "output_type": "stream",
     "text": [
      "ham_prior =  0.870179372197\n",
      "spam_prior =  0.129820627803\n"
     ]
    }
   ],
   "source": [
    "#What is the prior P(Y=ham) ?\n",
    "# number of ham massages divid by number of all massages\n",
    "ham_prior = float(np.sum(training_labels == 1)) /  len(training_labels)# !\n",
    "spam_prior = 1-ham_prior \n",
    "print \"ham_prior = \" ,ham_prior \n",
    "print \"spam_prior = \" , spam_prior\n",
    "# What are the class probabilities P(X=word|Y=ham) for each word?\n",
    "# Number of the word in ham massages divid by number of the word in all massages\n",
    "ham_likelihood = {}\n",
    "spam_likelihood = {}\n",
    "#print word_dictionary['funk'][0]\n",
    "for key,val in word_dictionary.items():\n",
    "    ham_likelihood[key] = (float (val[1]))/(val[1] + val[0]) #!\n",
    "for key,val in word_dictionary.items():\n",
    "    spam_likelihood[key] = (float (val[0]))/(val[1] + val[0]) #!"
   ]
  },
  {
   "cell_type": "markdown",
   "metadata": {},
   "source": [
    "Your next task is to make predictions on a set of test examples which were held back from the training procedure (see *test_messages* variable).  For each of these messages, compute the ham and spam probabilities."
   ]
  },
  {
   "cell_type": "code",
   "execution_count": 28,
   "metadata": {},
   "outputs": [],
   "source": [
    "# Where to hold the ham and spam posteriors\n",
    "posteriors = np.zeros((len(test_lines),2))\n",
    "\n",
    "# Loop over all the messages in the test set\n",
    "for i,m in enumerate(test_messages):\n",
    "    posterior_ham = 1.0 \n",
    "    posterior_spam = 1.0\n",
    "    posterior_ham = posterior_ham * ham_prior\n",
    "    posterior_spam = posterior_spam * spam_prior\n",
    "    #! Don't forget to include the prior!\n",
    "    # Loop over all the words in each message\n",
    "    for w in m:\n",
    "        # #! What is the purpose of this try/except handler?\n",
    "        # if the word is not in our training_labels pass it without the key error. \n",
    "        try:\n",
    "            \n",
    "            posterior_ham *= ham_likelihood[w]  #!\n",
    "            posterior_spam *= spam_likelihood[w]  #!\n",
    "        except KeyError:\n",
    "            pass\n",
    "    \n",
    "    # Notice the normalization factor (denominator) \n",
    "    # to turn these into proper probabilities!\n",
    "    posteriors[i,0] = posterior_spam/(posterior_spam + posterior_ham)\n",
    "    posteriors[i,1] = posterior_ham/(posterior_spam + posterior_ham)"
   ]
  },
  {
   "cell_type": "markdown",
   "metadata": {},
   "source": [
    "Finally, make a ham/spam prediction based on your posterior probabilities.  Compare these to the labels contained in test_labels.  Report the accuracy of your classifier as percentage correct."
   ]
  },
  {
   "cell_type": "code",
   "execution_count": 33,
   "metadata": {},
   "outputs": [
    {
     "name": "stdout",
     "output_type": "stream",
     "text": [
      "this model is correct in percentage =  93.90 %\n"
     ]
    }
   ],
   "source": [
    "#!#!\n",
    "correct_prediction = 0 # this is counter for correct prediction\n",
    "prediction_list= []   # list for test massages prediction  \n",
    "for i,m in enumerate(test_messages):\n",
    "    \n",
    "    if posteriors[i][1] > posteriors[i][0]:\n",
    "        prediction_list.append('ham')\n",
    "    else:\n",
    "        prediction_list.append('spam')\n",
    "for i,m in enumerate(test_messages):\n",
    "    if m[0]== prediction_list[i]:\n",
    "        correct_prediction +=1\n",
    "percentage = (correct_prediction/ float (len (test_messages))) * 100  \n",
    "print \"this model is correct in percentage = \" , \"%.2f\" % percentage, \"%\"\n"
   ]
  },
  {
   "cell_type": "code",
   "execution_count": null,
   "metadata": {},
   "outputs": [],
   "source": []
  },
  {
   "cell_type": "code",
   "execution_count": null,
   "metadata": {},
   "outputs": [],
   "source": []
  }
 ],
 "metadata": {
  "kernelspec": {
   "display_name": "Python 2",
   "language": "python",
   "name": "python2"
  },
  "language_info": {
   "codemirror_mode": {
    "name": "ipython",
    "version": 2
   },
   "file_extension": ".py",
   "mimetype": "text/x-python",
   "name": "python",
   "nbconvert_exporter": "python",
   "pygments_lexer": "ipython2",
   "version": "2.7.14"
  }
 },
 "nbformat": 4,
 "nbformat_minor": 2
}
